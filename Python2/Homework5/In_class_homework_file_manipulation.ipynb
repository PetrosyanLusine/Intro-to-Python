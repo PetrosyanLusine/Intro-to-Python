{
 "cells": [
  {
   "cell_type": "markdown",
   "metadata": {},
   "source": [
    "### Open the file file1.txt\n",
    "### Բացեք file1.txt-ն"
   ]
  },
  {
   "cell_type": "code",
   "execution_count": 35,
   "metadata": {},
   "outputs": [
    {
     "data": {
      "text/plain": [
       "<_io.TextIOWrapper name='file1.txt' mode='r' encoding='cp1252'>"
      ]
     },
     "execution_count": 35,
     "metadata": {},
     "output_type": "execute_result"
    }
   ],
   "source": [
    "f = open(\"file1.txt\")\n",
    "f"
   ]
  },
  {
   "cell_type": "markdown",
   "metadata": {},
   "source": [
    "### Get the first 10 lines of the file file1.txt \n",
    "### Ստացեք file1.txt ֆայլի առաջին 10 տողերը"
   ]
  },
  {
   "cell_type": "code",
   "execution_count": 36,
   "metadata": {},
   "outputs": [
    {
     "name": "stdout",
     "output_type": "stream",
     "text": [
      "This is the 1st line of file1\n",
      "\n",
      "This is the 2nd line of file1\n",
      "\n",
      "This is the 3rd line of file1\n",
      "\n",
      "This is the 4th line of file1\n",
      "\n",
      "This is the 5th line of file1\n",
      "\n",
      "This is the 6th line of file1\n",
      "\n",
      "This is the 7th line of file1\n",
      "\n",
      "This is the 8th line of file1\n",
      "\n",
      "This is the 9th line of file1\n",
      "\n",
      "This is the 10th line of file1\n"
     ]
    }
   ],
   "source": [
    "for i in range(0,10):\n",
    "    s = f.readline()\n",
    "    print(s)\n",
    "f.close()    "
   ]
  },
  {
   "cell_type": "markdown",
   "metadata": {},
   "source": [
    "### Write a try ... except clause for opening the file\n",
    "### Օգտագործեք try ... except բլոկ ֆայլը բացելու համար"
   ]
  },
  {
   "cell_type": "code",
   "execution_count": 37,
   "metadata": {},
   "outputs": [],
   "source": [
    "try:\n",
    "    f = open(\"file1.txt\")\n",
    "except:\n",
    "    f.close()\n",
    "    print(\"Error in opening file\")"
   ]
  },
  {
   "cell_type": "markdown",
   "metadata": {},
   "source": [
    "### Find the number of lines in the file. \n",
    "### Գտեք ֆայլի տողերի քանակը"
   ]
  },
  {
   "cell_type": "code",
   "execution_count": 38,
   "metadata": {},
   "outputs": [],
   "source": [
    "count = 0\n",
    "for line in f:\n",
    "    count = count + 1\n",
    "count    \n",
    "f.close()"
   ]
  },
  {
   "cell_type": "markdown",
   "metadata": {},
   "source": [
    "### Create a list each entry of which will be a line from our file. Ignore the new line characters ('\\n').\n",
    "### Ստեղծեք list, որը յուրաքանչյուր տարր իրենից ներկայացնում է մեր ֆայլի մեկ տող, անտեսեք '\\n'-երը"
   ]
  },
  {
   "cell_type": "code",
   "execution_count": 44,
   "metadata": {},
   "outputs": [
    {
     "data": {
      "text/plain": [
       "['This is the 1st line of file1',\n",
       " 'This is the 2nd line of file1',\n",
       " 'This is the 3rd line of file1',\n",
       " 'This is the 4th line of file1',\n",
       " 'This is the 5th line of file1',\n",
       " 'This is the 6th line of file1',\n",
       " 'This is the 7th line of file1',\n",
       " 'This is the 8th line of file1',\n",
       " 'This is the 9th line of file1',\n",
       " 'This is the 10th line of file1']"
      ]
     },
     "execution_count": 44,
     "metadata": {},
     "output_type": "execute_result"
    }
   ],
   "source": [
    "f = open(\"file1.txt\")\n",
    "lines = []\n",
    "for line in f:\n",
    "    lines.append(line.replace(\"\\n\",\"\"))\n",
    "f.close()\n",
    "lines"
   ]
  },
  {
   "cell_type": "markdown",
   "metadata": {},
   "source": [
    "### Open and read the file file2.txt\n",
    "### Բացեք և կարդացեք file2.txt ֆայլը"
   ]
  },
  {
   "cell_type": "code",
   "execution_count": 50,
   "metadata": {},
   "outputs": [
    {
     "name": "stdout",
     "output_type": "stream",
     "text": [
      "This is the 1st line of file2\n",
      "This is the 2nd line of file2\n",
      "This is the 3rd line of file2\n",
      "This is the 4th line of file2\n",
      "This is the 5th line of file2\n"
     ]
    }
   ],
   "source": [
    "with open(\"file2.txt\") as f2:\n",
    "    print(f2.read())"
   ]
  },
  {
   "cell_type": "markdown",
   "metadata": {},
   "source": [
    "### Read the file file2.txt line by line and write its contents into the new file file3.txt\n",
    "### Տող առ տող կարդացեք file2.txt ֆայլը ու իր պարունակությունը գրեք նոր file3.txt ֆայլում"
   ]
  },
  {
   "cell_type": "code",
   "execution_count": 63,
   "metadata": {},
   "outputs": [
    {
     "name": "stdout",
     "output_type": "stream",
     "text": [
      "This is the 1st line of file2\n",
      "This is the 2nd line of file2\n",
      "This is the 3rd line of file2\n",
      "This is the 4th line of file2\n",
      "This is the 5th line of file2\n"
     ]
    }
   ],
   "source": [
    "with open(\"file2.txt\") as f2:\n",
    "    with open(\"file3.txt\", \"w\") as f3:\n",
    "        for line in f2:\n",
    "            f3.write(line)\n",
    "            \n",
    "with open(\"file3.txt\", \"r\") as f3:\n",
    "    print(f3.read())"
   ]
  },
  {
   "cell_type": "markdown",
   "metadata": {},
   "source": [
    "### Read the file file2.txt line by line and write its contents at the end of the file file1.txt\n",
    "### Տող առ տող կարդացեք file2.txt ֆայլը ու իր պարունակությունը կցեք  file1.txt ֆայլի վերջից"
   ]
  },
  {
   "cell_type": "code",
   "execution_count": 64,
   "metadata": {},
   "outputs": [
    {
     "name": "stdout",
     "output_type": "stream",
     "text": [
      "This is the 1st line of file1\n",
      "This is the 2nd line of file1\n",
      "This is the 3rd line of file1\n",
      "This is the 4th line of file1\n",
      "This is the 5th line of file1\n",
      "This is the 6th line of file1\n",
      "This is the 7th line of file1\n",
      "This is the 8th line of file1\n",
      "This is the 9th line of file1\n",
      "This is the 10th line of file1This is the 1st line of file2\n",
      "This is the 2nd line of file2\n",
      "This is the 3rd line of file2\n",
      "This is the 4th line of file2\n",
      "This is the 5th line of file2\n"
     ]
    }
   ],
   "source": [
    "with open(\"file2.txt\") as f2:\n",
    "    with open(\"file1.txt\", \"a\") as f1:\n",
    "        for line in f2:\n",
    "            f1.write(line)\n",
    "            \n",
    "with open(\"file1.txt\", \"r\") as f1:\n",
    "    print(f1.read())"
   ]
  },
  {
   "cell_type": "markdown",
   "metadata": {},
   "source": [
    "### * Write a Python program to read a random line from the file file1.txt.\n",
    "### Գրեք ծրագիր, որի արդյունքում կստանանք file1.txt ֆայլի մեկ պատահական տող  "
   ]
  },
  {
   "cell_type": "code",
   "execution_count": 97,
   "metadata": {},
   "outputs": [
    {
     "name": "stdout",
     "output_type": "stream",
     "text": [
      "This is the 10th line of file1This is the 1st line of file2\n",
      "\n"
     ]
    }
   ],
   "source": [
    "import random \n",
    "\n",
    "with open(\"file1.txt\", \"r\") as f1:\n",
    "    count = 0\n",
    "    lines = []\n",
    "    for line in f1:\n",
    "        count = count + 1\n",
    "        lines.append(line)\n",
    "    num = random.randrange(0,count)\n",
    "    print(lines[num])"
   ]
  }
 ],
 "metadata": {
  "kernelspec": {
   "display_name": "Python 3",
   "language": "python",
   "name": "python3"
  },
  "language_info": {
   "codemirror_mode": {
    "name": "ipython",
    "version": 3
   },
   "file_extension": ".py",
   "mimetype": "text/x-python",
   "name": "python",
   "nbconvert_exporter": "python",
   "pygments_lexer": "ipython3",
   "version": "3.8.3"
  }
 },
 "nbformat": 4,
 "nbformat_minor": 2
}
