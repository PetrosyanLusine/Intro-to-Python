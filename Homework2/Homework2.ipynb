{
 "cells": [
  {
   "cell_type": "markdown",
   "metadata": {},
   "source": [
    "# Problem 1"
   ]
  },
  {
   "cell_type": "code",
   "execution_count": 12,
   "metadata": {},
   "outputs": [
    {
     "name": "stdout",
     "output_type": "stream",
     "text": [
      "10\n",
      "no numbers given\n"
     ]
    }
   ],
   "source": [
    "def max(*argv):\n",
    "    if len(argv) == 0:\n",
    "        return 'no numbers given'\n",
    "    max_num = argv[0]\n",
    "    for arg in argv:\n",
    "        if arg > max_num:\n",
    "            max_num = arg\n",
    "    return max_num\n",
    "print(max(10,5,9))\n",
    "print(max())"
   ]
  },
  {
   "cell_type": "markdown",
   "metadata": {},
   "source": [
    "# Problem2"
   ]
  },
  {
   "cell_type": "code",
   "execution_count": 16,
   "metadata": {},
   "outputs": [
    {
     "data": {
      "text/plain": [
       "\"<u> Hi, it's me! </u>\""
      ]
     },
     "execution_count": 16,
     "metadata": {},
     "output_type": "execute_result"
    }
   ],
   "source": [
    "def text(fn):\n",
    "    def wrapper():\n",
    "        return fn() + \", it's me!\"\n",
    "    return wrapper\n",
    "\n",
    "def u(fn):\n",
    "    def wrapper():\n",
    "        return '<u> ' + fn() + ' </u>' \n",
    "    return wrapper\n",
    "\n",
    "@u\n",
    "@text\n",
    "def func():\n",
    "    return 'Hi'\n",
    "func()"
   ]
  },
  {
   "cell_type": "markdown",
   "metadata": {},
   "source": [
    "# Problem3"
   ]
  },
  {
   "cell_type": "code",
   "execution_count": 34,
   "metadata": {},
   "outputs": [
    {
     "name": "stdout",
     "output_type": "stream",
     "text": [
      "0\n",
      "1\n",
      "2\n",
      "3\n",
      "4\n",
      "there are no values left\n"
     ]
    }
   ],
   "source": [
    "def my_range(n):\n",
    "    for i in range(n+1):\n",
    "        yield i\n",
    "    yield('there are no values left')\n",
    "\n",
    "my_nums = my_range(4)\n",
    "print(next(my_nums))\n",
    "print(next(my_nums))\n",
    "print(next(my_nums))\n",
    "print(next(my_nums))\n",
    "print(next(my_nums))\n",
    "print(next(my_nums))"
   ]
  }
 ],
 "metadata": {
  "kernelspec": {
   "display_name": "Python 3",
   "language": "python",
   "name": "python3"
  },
  "language_info": {
   "codemirror_mode": {
    "name": "ipython",
    "version": 3
   },
   "file_extension": ".py",
   "mimetype": "text/x-python",
   "name": "python",
   "nbconvert_exporter": "python",
   "pygments_lexer": "ipython3",
   "version": "3.8.3"
  }
 },
 "nbformat": 4,
 "nbformat_minor": 4
}
