{
 "cells": [
  {
   "cell_type": "markdown",
   "metadata": {},
   "source": [
    "# Problem 1)"
   ]
  },
  {
   "cell_type": "code",
   "execution_count": 21,
   "metadata": {},
   "outputs": [],
   "source": [
    "class Calculation:\n",
    "    def __init__(self,x,y):\n",
    "        self.x = x\n",
    "        self.y = y \n",
    "\n",
    "    def addition(self):\n",
    "        return self.x + self.y \n",
    "\n",
    "    def subtraction(self):\n",
    "        return self.x - self.y \n",
    "\n",
    "class MyCalculation(Calculation):\n",
    "    def __init__(self,x,y):\n",
    "        super().__init__(x,y)\n",
    "\n",
    "    def multiplication(self):\n",
    "        return self.x * self.y \n",
    "\n",
    "    def division(self):\n",
    "        return self.x / self.y "
   ]
  },
  {
   "cell_type": "code",
   "execution_count": 22,
   "metadata": {},
   "outputs": [
    {
     "name": "stdout",
     "output_type": "stream",
     "text": [
      "8\n",
      "-2\n",
      "15\n",
      "0.6\n"
     ]
    }
   ],
   "source": [
    "calc = MyCalculation(3,5)\n",
    "print(calc.addition())\n",
    "print(calc.subtraction()) \n",
    "print(calc.multiplication())\n",
    "print(calc.division())"
   ]
  },
  {
   "cell_type": "markdown",
   "metadata": {},
   "source": [
    "# Problem 2) "
   ]
  },
  {
   "cell_type": "code",
   "execution_count": 55,
   "metadata": {},
   "outputs": [],
   "source": [
    "class My_Time:\n",
    "    def __init__(self,t):\n",
    "        self.t = t\n",
    "\n",
    "    def printTime(self):\n",
    "        print('The current time is',self.t)\n",
    "\n",
    "class My_Date:\n",
    "    def __init__(self,d):\n",
    "        self.d = d\n",
    "\n",
    "    def printDate(self):\n",
    "        print('The current date is',self.d)        \n",
    "        \n",
    "class Date_Time(My_Date,My_Time):\n",
    "    def __init__(self,t,d):\n",
    "        My_Time.__init__(self,t)\n",
    "        My_Date.__init__(self,d)"
   ]
  },
  {
   "cell_type": "code",
   "execution_count": 56,
   "metadata": {},
   "outputs": [],
   "source": [
    "datetime = Date_Time('12 PM','13.03.2013')"
   ]
  },
  {
   "cell_type": "code",
   "execution_count": 57,
   "metadata": {},
   "outputs": [
    {
     "name": "stdout",
     "output_type": "stream",
     "text": [
      "The current time is 12 PM\n",
      "The current date is 13.03.2013\n"
     ]
    }
   ],
   "source": [
    "datetime.printTime()\n",
    "datetime.printDate()"
   ]
  }
 ],
 "metadata": {
  "kernelspec": {
   "display_name": "Python 3",
   "language": "python",
   "name": "python3"
  },
  "language_info": {
   "codemirror_mode": {
    "name": "ipython",
    "version": 3
   },
   "file_extension": ".py",
   "mimetype": "text/x-python",
   "name": "python",
   "nbconvert_exporter": "python",
   "pygments_lexer": "ipython3",
   "version": "3.8.3"
  }
 },
 "nbformat": 4,
 "nbformat_minor": 4
}
