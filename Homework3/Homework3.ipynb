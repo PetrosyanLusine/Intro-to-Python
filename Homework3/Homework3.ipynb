{
 "cells": [
  {
   "cell_type": "markdown",
   "metadata": {},
   "source": [
    "# 1)"
   ]
  },
  {
   "cell_type": "code",
   "execution_count": 73,
   "metadata": {},
   "outputs": [],
   "source": [
    "class Car:\n",
    "    def __init__(self, model, color, max_speed):\n",
    "        self.model = model\n",
    "        self.color = color\n",
    "        self.max_speed = max_speed\n",
    "        \n",
    "    def compareCar(self, car2):\n",
    "        if self.max_speed >= car2.max_speed:\n",
    "            print('car1 is better than car2')\n",
    "        else:\n",
    "            print('car2 is better than car1')           "
   ]
  },
  {
   "cell_type": "code",
   "execution_count": 74,
   "metadata": {},
   "outputs": [
    {
     "name": "stdout",
     "output_type": "stream",
     "text": [
      "car1 is better than car2\n"
     ]
    }
   ],
   "source": [
    "car1 = Car('BMW','black',170)\n",
    "car2 = Car('Honda','blue',150)\n",
    "car1.compareCar(car2)"
   ]
  },
  {
   "cell_type": "markdown",
   "metadata": {},
   "source": [
    "# 2)"
   ]
  },
  {
   "cell_type": "code",
   "execution_count": 77,
   "metadata": {},
   "outputs": [],
   "source": [
    "class Person:\n",
    "    def __init__(self, name, last_name, age, gender, student):\n",
    "        self.name = name\n",
    "        self.last_name = last_name\n",
    "        self.age = age\n",
    "        self.gender = gender\n",
    "        self.student = student\n",
    "        self.__password = None \n",
    "        \n",
    "    def Greeting(self, second_person):\n",
    "        print('Welcome dear ' + second_person.name)\n",
    "    \n",
    "    def Goodbye(self):\n",
    "        print('Bye everyone!')\n",
    "    \n",
    "    def Favourite_num(self, num1):\n",
    "        print('My favourite number is', num1)\n",
    "    \n",
    "    def Read_file(self, filename):\n",
    "        file = open(filename + '.txt')\n",
    "        return file.read()\n",
    "    \n",
    "    def set_password(self, new_password):\n",
    "        self.__password = new_password\n",
    "    \n",
    "    def get_password(self):\n",
    "        return self.__password"
   ]
  },
  {
   "cell_type": "code",
   "execution_count": 79,
   "metadata": {},
   "outputs": [
    {
     "name": "stdout",
     "output_type": "stream",
     "text": [
      "Welcome dear John\n",
      "Bye everyone!\n",
      "My favourite number is 5\n",
      "abcd\n",
      "\n"
     ]
    },
    {
     "data": {
      "text/plain": [
       "'bcd'"
      ]
     },
     "execution_count": 79,
     "metadata": {},
     "output_type": "execute_result"
    }
   ],
   "source": [
    "pers1 = Person('Ann','Smith',17,'Female',True)\n",
    "pers2 = Person('John','Parker',20,'Male',True)\n",
    "pers1.Greeting(pers2)\n",
    "pers1.Goodbye()\n",
    "pers1.Favourite_num(5)\n",
    "print(pers1.Read_file(\"aa\"))\n",
    "pers1.set_password(\"bcd\")\n",
    "pers1.get_password()"
   ]
  }
 ],
 "metadata": {
  "kernelspec": {
   "display_name": "Python 3",
   "language": "python",
   "name": "python3"
  },
  "language_info": {
   "codemirror_mode": {
    "name": "ipython",
    "version": 3
   },
   "file_extension": ".py",
   "mimetype": "text/x-python",
   "name": "python",
   "nbconvert_exporter": "python",
   "pygments_lexer": "ipython3",
   "version": "3.8.3"
  }
 },
 "nbformat": 4,
 "nbformat_minor": 4
}
